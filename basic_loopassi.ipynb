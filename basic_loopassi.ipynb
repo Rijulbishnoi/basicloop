{
  "nbformat": 4,
  "nbformat_minor": 0,
  "metadata": {
    "colab": {
      "provenance": []
    },
    "kernelspec": {
      "name": "python3",
      "display_name": "Python 3"
    },
    "language_info": {
      "name": "python"
    }
  },
  "cells": [
    {
      "cell_type": "code",
      "execution_count": 2,
      "metadata": {
        "colab": {
          "base_uri": "https://localhost:8080/"
        },
        "id": "Lis7G9UaYqA7",
        "outputId": "781cdcd6-6d91-497e-b9f7-6a1521ff4a3b"
      },
      "outputs": [
        {
          "output_type": "stream",
          "name": "stdout",
          "text": [
            "enter last number10\n",
            "1\n",
            "2\n",
            "3\n",
            "4\n",
            "5\n",
            "6\n",
            "7\n",
            "8\n",
            "9\n",
            "10\n"
          ]
        }
      ],
      "source": [
        "#1. Write a program to print all natural numbers from 1 to n. – using while\n",
        "#loop\n",
        "i=1\n",
        "n= int(input(\"enter last number\"))\n",
        "for i in range(i , n+1):\n",
        "  print(i)\n",
        "\n"
      ]
    },
    {
      "cell_type": "code",
      "source": [
        "#2. Write a program to print all natural numbers in reverse (from n to 1). –\n",
        "#using while loop\n",
        "n=int(input(\"enter the number\"))\n",
        "while(n>0):\n",
        "  print(n)\n",
        "  n=n-1"
      ],
      "metadata": {
        "colab": {
          "base_uri": "https://localhost:8080/"
        },
        "id": "ehoKQOgSZF0P",
        "outputId": "69737889-9d14-45ff-e631-ecadfe53762a"
      },
      "execution_count": 3,
      "outputs": [
        {
          "output_type": "stream",
          "name": "stdout",
          "text": [
            "enter the number10\n",
            "10\n",
            "9\n",
            "8\n",
            "7\n",
            "6\n",
            "5\n",
            "4\n",
            "3\n",
            "2\n",
            "1\n"
          ]
        }
      ]
    },
    {
      "cell_type": "code",
      "source": [
        "#3. Write a program to print all alphabets from a to z. – using while loop\\\n",
        "num=65\n",
        "while(num<91):\n",
        "  print(chr(num))\n",
        "  num+=1\n"
      ],
      "metadata": {
        "colab": {
          "base_uri": "https://localhost:8080/"
        },
        "id": "l5yEQ58-ZfTE",
        "outputId": "ef8ecf0b-c05e-4bbb-8a88-27b8bb4bed91"
      },
      "execution_count": 6,
      "outputs": [
        {
          "output_type": "stream",
          "name": "stdout",
          "text": [
            "A\n",
            "B\n",
            "C\n",
            "D\n",
            "E\n",
            "F\n",
            "G\n",
            "H\n",
            "I\n",
            "J\n",
            "K\n",
            "L\n",
            "M\n",
            "N\n",
            "O\n",
            "P\n",
            "Q\n",
            "R\n",
            "S\n",
            "T\n",
            "U\n",
            "V\n",
            "W\n",
            "X\n",
            "Y\n",
            "Z\n"
          ]
        }
      ]
    },
    {
      "cell_type": "code",
      "source": [
        "#4. Write a program to print all even numbers between 1 to 100. – using\n",
        "#while loop\n",
        "n=100\n",
        "while(n>0):\n",
        "  if n%2==0:\n",
        "    print(n , end=\" \")\n",
        "  n=n-1"
      ],
      "metadata": {
        "colab": {
          "base_uri": "https://localhost:8080/"
        },
        "id": "YDOGM4fbZ-67",
        "outputId": "4e3be661-b09d-4270-d623-423eff387300"
      },
      "execution_count": 8,
      "outputs": [
        {
          "output_type": "stream",
          "name": "stdout",
          "text": [
            "100 98 96 94 92 90 88 86 84 82 80 78 76 74 72 70 68 66 64 62 60 58 56 54 52 50 48 46 44 42 40 38 36 34 32 30 28 26 24 22 20 18 16 14 12 10 8 6 4 2 "
          ]
        }
      ]
    },
    {
      "cell_type": "code",
      "source": [
        "#5. Write a program to find the sum of all odd numbers between 1 to n.\n",
        "n=int(input(\"enter any number:\"))\n",
        "sum=0\n",
        "while(n>0):\n",
        "  if n%2==1:\n",
        "    sum= sum+n\n",
        "  n=n-1\n",
        "print(sum)\n"
      ],
      "metadata": {
        "colab": {
          "base_uri": "https://localhost:8080/"
        },
        "id": "4z6qDgUzadKJ",
        "outputId": "cae4de1e-acc3-472d-c4c2-5c15bb0851e2"
      },
      "execution_count": 9,
      "outputs": [
        {
          "output_type": "stream",
          "name": "stdout",
          "text": [
            "enter any number:5\n",
            "9\n"
          ]
        }
      ]
    },
    {
      "cell_type": "code",
      "source": [
        "#6. Write a program to count the number of digits in a number.\n",
        "num=int(input(\"enter any number:\"))\n",
        "count=0\n",
        "while(num>0):\n",
        "  num=num//10\n",
        "  count+=1\n",
        "print(count)"
      ],
      "metadata": {
        "colab": {
          "base_uri": "https://localhost:8080/"
        },
        "id": "xrAzfz0TbeDi",
        "outputId": "f710b438-f145-4628-ea34-b1513df0bd16"
      },
      "execution_count": 18,
      "outputs": [
        {
          "output_type": "stream",
          "name": "stdout",
          "text": [
            "enter any number:4569\n",
            "4\n"
          ]
        }
      ]
    },
    {
      "cell_type": "code",
      "source": [
        "#7. Write a program to calculate the sum of digits of a number.\n",
        "num=int(input(\"enter any number:\"))\n",
        "sum=0\n",
        "while(num>0):\n",
        "  rem=num%10\n",
        "  sum=sum+rem\n",
        "  num=num//10\n",
        "print(sum)"
      ],
      "metadata": {
        "colab": {
          "base_uri": "https://localhost:8080/"
        },
        "id": "NyZIJw9_b-hU",
        "outputId": "7745d438-dc2c-4a40-dbeb-b66c506c117a"
      },
      "execution_count": 11,
      "outputs": [
        {
          "output_type": "stream",
          "name": "stdout",
          "text": [
            "enter any number:125\n",
            "8\n"
          ]
        }
      ]
    },
    {
      "cell_type": "code",
      "source": [
        "#8. Write a program to find the first and last digit of a number.\n",
        "num=int(input(\"enter any number:\"))\n",
        "rem=num%10\n",
        "last_digit=rem\n",
        "while(num>10):\n",
        "  num=num//10\n",
        "  first_digit=num\n",
        "print(\"First digit of num:\",first_digit,\"Last digit of num\",last_digit)"
      ],
      "metadata": {
        "colab": {
          "base_uri": "https://localhost:8080/"
        },
        "id": "-fQRIr9YcUGV",
        "outputId": "d0fb0dff-3a59-4bd9-e227-a2f3719c3d97"
      },
      "execution_count": 15,
      "outputs": [
        {
          "output_type": "stream",
          "name": "stdout",
          "text": [
            "enter any number:258\n",
            "First digit of num: 2 Last digit of num 8\n"
          ]
        }
      ]
    },
    {
      "cell_type": "code",
      "source": [
        "#10.Write a program to enter a number and print its reverse.\n",
        "num=int(input(\"enter any number:\"))\n",
        "sum=0\n",
        "while(num>0):\n",
        " rem=num%10\n",
        " sum=sum*10+rem\n",
        " num=num//10\n",
        "print(\"Reversed num.\",sum)"
      ],
      "metadata": {
        "colab": {
          "base_uri": "https://localhost:8080/"
        },
        "id": "E714wL4fclD0",
        "outputId": "5a10e7f8-8c23-45f1-b65c-8c5dd68dd19e"
      },
      "execution_count": 17,
      "outputs": [
        {
          "output_type": "stream",
          "name": "stdout",
          "text": [
            "enter any number:254\n",
            "Reversed num. 452\n"
          ]
        }
      ]
    },
    {
      "cell_type": "code",
      "source": [
        "#11.Write a program to find the power of a number using for loop.\n",
        "new_num=1\n",
        "num=int(input(\"Enter the number:\"))\n",
        "power=int(input(\"Enter the power:\"))\n",
        "for i in range(power):\n",
        "  new_num=new_num*num\n",
        "print(new_num)"
      ],
      "metadata": {
        "colab": {
          "base_uri": "https://localhost:8080/"
        },
        "id": "UQX0CR0Scumt",
        "outputId": "5f6aec55-1b6f-445f-b3d3-7f97280339c9"
      },
      "execution_count": 36,
      "outputs": [
        {
          "output_type": "stream",
          "name": "stdout",
          "text": [
            "Enter the number:5\n",
            "Enter the power:3\n",
            "125\n"
          ]
        }
      ]
    },
    {
      "cell_type": "code",
      "source": [
        "#12.Write a program to find all factors of a number.\n",
        "num =8\n",
        "for i in range(1,10000):\n",
        "  if(num%i==0):\n",
        "    print(\"factor\",i)"
      ],
      "metadata": {
        "colab": {
          "base_uri": "https://localhost:8080/"
        },
        "id": "_ebev-Bfd0ZD",
        "outputId": "67f5f8cd-2a36-4b31-aab3-b59c9f632cd9"
      },
      "execution_count": 28,
      "outputs": [
        {
          "output_type": "stream",
          "name": "stdout",
          "text": [
            "factor 1\n",
            "factor 2\n",
            "factor 4\n",
            "factor 8\n"
          ]
        }
      ]
    },
    {
      "cell_type": "code",
      "source": [
        "#13.Write a program to calculate the factorial of a number.\n",
        "num=int(input(\"enter the number:\"))\n",
        "prod=1\n",
        "while(num>0):\n",
        "  prod=prod*num\n",
        "  num-=1\n",
        "print(prod)\n"
      ],
      "metadata": {
        "colab": {
          "base_uri": "https://localhost:8080/"
        },
        "id": "JlK-8ef_fCU8",
        "outputId": "53f8691f-4517-4ea8-eccb-55c76606efad"
      },
      "execution_count": 38,
      "outputs": [
        {
          "output_type": "stream",
          "name": "stdout",
          "text": [
            "enter the number:5\n",
            "120\n"
          ]
        }
      ]
    },
    {
      "cell_type": "code",
      "source": [
        "#14.Write a program to find LCM of two numbers.\n",
        "x=int(input(\"enter any number one:\"))\n",
        "y=int(input(\"enter number two:\"))\n",
        "\n",
        "if(x>y):\n",
        "  greatest=x\n",
        "else:\n",
        "  greatest=y\n",
        "while(True):\n",
        " if(greatest%x==0 and greatest%y==0):\n",
        "   print(\"LCM is\",greatest)\n",
        "   break\n",
        " else:\n",
        "   greatest+=1\n"
      ],
      "metadata": {
        "colab": {
          "base_uri": "https://localhost:8080/"
        },
        "id": "_BesvFhSgp6a",
        "outputId": "000046ff-377e-45c4-d304-3100fae902a6"
      },
      "execution_count": 2,
      "outputs": [
        {
          "output_type": "stream",
          "name": "stdout",
          "text": [
            "LCM is 10\n"
          ]
        }
      ]
    },
    {
      "cell_type": "code",
      "source": [
        "#15.Write a program to check whether a number is Prime number or not.\n",
        "num=int(input(\"enter any number\"))\n",
        "for i in range(1,num):\n",
        "  if(num%i!=0):\n",
        "    print(num,\"is a primenumber\")\n",
        "    break\n",
        "  elif(num==2):\n",
        "    print(num,\"is a primenumber\")\n",
        "\n",
        "  else:\n",
        "    print(num,\"is not a prime number\")\n",
        "    break\n",
        "\n"
      ],
      "metadata": {
        "colab": {
          "base_uri": "https://localhost:8080/"
        },
        "id": "B5N94ou8gyKK",
        "outputId": "b778fe54-1c4c-46ea-800f-166d1f649302"
      },
      "execution_count": 15,
      "outputs": [
        {
          "output_type": "stream",
          "name": "stdout",
          "text": [
            "enter any number2\n",
            "2 is a primenumber\n"
          ]
        }
      ]
    },
    {
      "cell_type": "code",
      "source": [
        "#16.Write a program to print all Prime numbers between 1 to n.\n",
        "\n",
        "n=int(input(\"enter the number:\"))\n",
        "for num in range(2,n+1):\n",
        " for i in range(1,num):\n",
        "    if(num%i!=0):\n",
        "      print(num,\"is a primenumber\")\n",
        "      break\n",
        "    elif(num==2):\n",
        "      print(num,\"is a primenumber\")\n",
        "    else:\n",
        "      print(num,\"is not a prime no.\")\n",
        "      break"
      ],
      "metadata": {
        "colab": {
          "base_uri": "https://localhost:8080/"
        },
        "id": "Lv2ZJQxJg7iG",
        "outputId": "eb15a1f3-165a-4d9c-bf2b-991718dc96fc"
      },
      "execution_count": 20,
      "outputs": [
        {
          "output_type": "stream",
          "name": "stdout",
          "text": [
            "enter the number:5\n",
            "2 is a primenumber\n",
            "3 is not a prime no.\n",
            "4 is not a prime no.\n",
            "5 is not a prime no.\n"
          ]
        }
      ]
    },
    {
      "cell_type": "code",
      "source": [
        "#16.Write a program to print all Prime numbers between 1 to n.\n",
        "#16\n",
        "num = int(input(\"Enter a number1: \"))\n",
        "is_prime=True\n",
        "i=2\n",
        "while i<num:\n",
        "    div=2\n",
        "    if i<1:\n",
        "        is_prime=False\n",
        "    else:\n",
        "        while div<i:\n",
        "            if i%div==0:\n",
        "                is_prime = False\n",
        "            div+=1\n",
        "    if is_prime:\n",
        "        print(i)\n",
        "    i+=1\n"
      ],
      "metadata": {
        "colab": {
          "base_uri": "https://localhost:8080/"
        },
        "id": "G_4zycoRI1-A",
        "outputId": "f54e6fe3-5a20-4019-f396-eaf3fc88be61"
      },
      "execution_count": 22,
      "outputs": [
        {
          "output_type": "stream",
          "name": "stdout",
          "text": [
            "Enter a number1: 15\n",
            "2\n",
            "3\n"
          ]
        }
      ]
    },
    {
      "cell_type": "code",
      "source": [
        "#18.Write a program to check whether a number is an Armstrong number or\n",
        "#not.\n",
        "a=153\n",
        "temp=153\n",
        "sum=0\n",
        "while(a>0):\n",
        "  rem=a%10\n",
        "  sum=sum+rem*rem*rem\n",
        "  a=a//10\n",
        "\n",
        "if(sum==temp):\n",
        "  print(\"Armstrong number\")\n",
        "else:\n",
        "  print(\"Not\")"
      ],
      "metadata": {
        "colab": {
          "base_uri": "https://localhost:8080/"
        },
        "id": "gluFPxr2R602",
        "outputId": "167acff7-9f72-4620-8835-8009d7ae8994"
      },
      "execution_count": 24,
      "outputs": [
        {
          "output_type": "stream",
          "name": "stdout",
          "text": [
            "Armstrong number\n"
          ]
        }
      ]
    },
    {
      "cell_type": "code",
      "source": [
        "#19.Write a program to check whether a number is Strong number or not\n",
        "\n",
        "sum=0\n",
        "num=int(input(\"Enter the number:\"))\n",
        "temp=num\n",
        "while(num>0):\n",
        " prod=1\n",
        " rem=num%10\n",
        " while(rem>1):\n",
        "  prod=prod*rem\n",
        "  rem-=1\n",
        " num=num//10\n",
        " sum=sum+prod\n",
        "\n",
        "if(sum==temp):\n",
        "  print(\"Strong number\")\n",
        "else:\n",
        "  print(\"NOt\")"
      ],
      "metadata": {
        "colab": {
          "base_uri": "https://localhost:8080/"
        },
        "id": "DTWvq7p4YAiN",
        "outputId": "a3cea6cf-d0e9-4327-fe40-52374cf73a29"
      },
      "execution_count": 31,
      "outputs": [
        {
          "output_type": "stream",
          "name": "stdout",
          "text": [
            "Enter the number:145\n",
            "Strong number\n"
          ]
        }
      ]
    },
    {
      "cell_type": "code",
      "source": [
        "#20.Write a program to check whether a number is perfect number or not\n",
        "sum=0\n",
        "num=int(input(\"Enter the number:\"))\n",
        "temp=num\n",
        "for i in range(1,num):\n",
        "  if(num%i==0):\n",
        "    sum=sum+i\n",
        "if(temp==sum):\n",
        "  print(\"Perfect number\")\n",
        "else:\n",
        "  print(\"Not\")"
      ],
      "metadata": {
        "colab": {
          "base_uri": "https://localhost:8080/"
        },
        "id": "5D7TVoXnaLp6",
        "outputId": "c51c7ca4-3241-4456-85c9-7984323e408d"
      },
      "execution_count": 37,
      "outputs": [
        {
          "output_type": "stream",
          "name": "stdout",
          "text": [
            "Enter the number:6\n",
            "Perfect number\n"
          ]
        }
      ]
    },
    {
      "cell_type": "code",
      "source": [
        "#21.Write a program to print fibonacci series upto n terms\n",
        "n=int(input(\"Enter the number:\"))\n",
        "a=0\n",
        "b=1\n",
        "c=a+b\n",
        "for i in range(n):\n",
        "  print(a, end=\" \")\n",
        "  a=b\n",
        "  b=c\n",
        "  c=a+b\n",
        "\n",
        ""
      ],
      "metadata": {
        "colab": {
          "base_uri": "https://localhost:8080/"
        },
        "id": "dwj6SSzncE8O",
        "outputId": "c073128b-a70f-465f-e256-068cef67a1e0"
      },
      "execution_count": 52,
      "outputs": [
        {
          "output_type": "stream",
          "name": "stdout",
          "text": [
            "Enter the number:15\n",
            "0 1 1 2 3 5 8 13 21 34 55 89 144 233 377 "
          ]
        }
      ]
    },
    {
      "cell_type": "code",
      "source": [
        "#22.Write a program to find ones complement of a binary number\n",
        "num = 10011001\n",
        "sum=''\n",
        "while(num>0):\n",
        "  rem=num%10\n",
        "  if(rem==0):\n",
        "    sum+='1'\n",
        "  else:\n",
        "    sum+='0'\n",
        "  num=num//10\n",
        "print(sum)\n"
      ],
      "metadata": {
        "colab": {
          "base_uri": "https://localhost:8080/"
        },
        "id": "P-xksvFJdCgE",
        "outputId": "5f3dc488-d543-49e7-fa09-cf65ee3bcc39"
      },
      "execution_count": 55,
      "outputs": [
        {
          "output_type": "stream",
          "name": "stdout",
          "text": [
            "01100110\n"
          ]
        }
      ]
    },
    {
      "cell_type": "code",
      "source": [],
      "metadata": {
        "id": "i3TETKNxe_gv"
      },
      "execution_count": null,
      "outputs": []
    }
  ]
}